{
 "cells": [
  {
   "cell_type": "code",
   "execution_count": 3,
   "id": "8101a70a-c366-4de6-8489-c9218e758d67",
   "metadata": {},
   "outputs": [],
   "source": [
    "import pandas as pd"
   ]
  },
  {
   "cell_type": "code",
   "execution_count": 2,
   "id": "78d99d22-8165-4f8f-992d-61c5cca4c669",
   "metadata": {},
   "outputs": [],
   "source": [
    "#A série do Pandas pode optar por fazer indicies usando chaves como um dcionário\n",
    "lista = [12, 23, 34, 49, 56, 67]\n",
    "serie_pandas = pd.Series(lista)"
   ]
  },
  {
   "cell_type": "code",
   "execution_count": 11,
   "id": "3732254f-3021-4ebf-a151-1bd8501d6586",
   "metadata": {},
   "outputs": [
    {
     "name": "stdout",
     "output_type": "stream",
     "text": [
      "0    12\n",
      "1    23\n",
      "2    34\n",
      "3    49\n",
      "4    56\n",
      "5    67\n",
      "dtype: int64\n"
     ]
    }
   ],
   "source": [
    "print(serie_pandas)"
   ]
  },
  {
   "cell_type": "code",
   "execution_count": 4,
   "id": "c9276b68-0e5d-4650-8497-349a0dbb164e",
   "metadata": {},
   "outputs": [],
   "source": [
    "notas = {\"Leo\" : 9.5, \"Joao\" : 6.5, \"Amanda\" : 7.8}\n",
    "series_notas = pd.Series(notas)"
   ]
  },
  {
   "cell_type": "code",
   "execution_count": 5,
   "id": "5dd1f7a6-7f5f-4a59-8758-61dd8efb43d7",
   "metadata": {},
   "outputs": [
    {
     "name": "stdout",
     "output_type": "stream",
     "text": [
      "Leo       9.5\n",
      "Joao      6.5\n",
      "Amanda    7.8\n",
      "dtype: float64\n"
     ]
    }
   ],
   "source": [
    "print(series_notas)"
   ]
  },
  {
   "cell_type": "code",
   "execution_count": 8,
   "id": "67369029-673d-4137-ae9b-5437e038436f",
   "metadata": {},
   "outputs": [
    {
     "name": "stdout",
     "output_type": "stream",
     "text": [
      "7.8\n",
      "count    3.000000\n",
      "mean     7.933333\n",
      "std      1.504438\n",
      "min      6.500000\n",
      "25%      7.150000\n",
      "50%      7.800000\n",
      "75%      8.650000\n",
      "max      9.500000\n",
      "dtype: float64\n"
     ]
    }
   ],
   "source": [
    "#O pandas é construido com base no numpy, ou seja ele implementa mais funcoes que ele \n",
    "#como a mediana ou uma descricao completa\n",
    "print(series_notas.median())\n",
    "print(series_notas.describe())"
   ]
  },
  {
   "cell_type": "code",
   "execution_count": 38,
   "id": "b0fee307-e3c4-4290-a91f-3c1cb24f4f28",
   "metadata": {},
   "outputs": [],
   "source": [
    "dic = {\"Alunos\" : [\"Leonardo\", \"Amanda\", \"Lucas\", \"Rafael\"],\n",
    "      \"Curso\" : [\"Computacao\", \"Psicologia\", \"Computacao\", \"Computacao\"],\n",
    "       \"Notas\": [\"MS\", \"SS\", \"MS\", \"MI\"]\n",
    "      }"
   ]
  },
  {
   "cell_type": "code",
   "execution_count": 39,
   "id": "2545dd93-aca5-42ef-99ea-829a7015ab5b",
   "metadata": {},
   "outputs": [
    {
     "data": {
      "text/html": [
       "<div>\n",
       "<style scoped>\n",
       "    .dataframe tbody tr th:only-of-type {\n",
       "        vertical-align: middle;\n",
       "    }\n",
       "\n",
       "    .dataframe tbody tr th {\n",
       "        vertical-align: top;\n",
       "    }\n",
       "\n",
       "    .dataframe thead th {\n",
       "        text-align: right;\n",
       "    }\n",
       "</style>\n",
       "<table border=\"1\" class=\"dataframe\">\n",
       "  <thead>\n",
       "    <tr style=\"text-align: right;\">\n",
       "      <th></th>\n",
       "      <th>Alunos</th>\n",
       "      <th>Curso</th>\n",
       "      <th>Notas</th>\n",
       "    </tr>\n",
       "  </thead>\n",
       "  <tbody>\n",
       "    <tr>\n",
       "      <th>0</th>\n",
       "      <td>Leonardo</td>\n",
       "      <td>Computacao</td>\n",
       "      <td>MS</td>\n",
       "    </tr>\n",
       "    <tr>\n",
       "      <th>1</th>\n",
       "      <td>Amanda</td>\n",
       "      <td>Psicologia</td>\n",
       "      <td>SS</td>\n",
       "    </tr>\n",
       "    <tr>\n",
       "      <th>2</th>\n",
       "      <td>Lucas</td>\n",
       "      <td>Computacao</td>\n",
       "      <td>MS</td>\n",
       "    </tr>\n",
       "    <tr>\n",
       "      <th>3</th>\n",
       "      <td>Rafael</td>\n",
       "      <td>Computacao</td>\n",
       "      <td>MI</td>\n",
       "    </tr>\n",
       "  </tbody>\n",
       "</table>\n",
       "</div>"
      ],
      "text/plain": [
       "     Alunos       Curso Notas\n",
       "0  Leonardo  Computacao    MS\n",
       "1    Amanda  Psicologia    SS\n",
       "2     Lucas  Computacao    MS\n",
       "3    Rafael  Computacao    MI"
      ]
     },
     "execution_count": 39,
     "metadata": {},
     "output_type": "execute_result"
    }
   ],
   "source": [
    "df = pd.DataFrame(dic)\n",
    "df"
   ]
  },
  {
   "cell_type": "code",
   "execution_count": 40,
   "id": "287a2724-4c1b-4dd8-909f-cf9fc6c4ea0c",
   "metadata": {},
   "outputs": [
    {
     "data": {
      "text/html": [
       "<div>\n",
       "<style scoped>\n",
       "    .dataframe tbody tr th:only-of-type {\n",
       "        vertical-align: middle;\n",
       "    }\n",
       "\n",
       "    .dataframe tbody tr th {\n",
       "        vertical-align: top;\n",
       "    }\n",
       "\n",
       "    .dataframe thead th {\n",
       "        text-align: right;\n",
       "    }\n",
       "</style>\n",
       "<table border=\"1\" class=\"dataframe\">\n",
       "  <thead>\n",
       "    <tr style=\"text-align: right;\">\n",
       "      <th></th>\n",
       "      <th>Alunos</th>\n",
       "      <th>Curso</th>\n",
       "      <th>Notas</th>\n",
       "      <th>Notas_int</th>\n",
       "    </tr>\n",
       "  </thead>\n",
       "  <tbody>\n",
       "    <tr>\n",
       "      <th>0</th>\n",
       "      <td>Leonardo</td>\n",
       "      <td>Computacao</td>\n",
       "      <td>MS</td>\n",
       "      <td>8</td>\n",
       "    </tr>\n",
       "    <tr>\n",
       "      <th>1</th>\n",
       "      <td>Amanda</td>\n",
       "      <td>Psicologia</td>\n",
       "      <td>SS</td>\n",
       "      <td>10</td>\n",
       "    </tr>\n",
       "    <tr>\n",
       "      <th>2</th>\n",
       "      <td>Lucas</td>\n",
       "      <td>Computacao</td>\n",
       "      <td>MS</td>\n",
       "      <td>8</td>\n",
       "    </tr>\n",
       "    <tr>\n",
       "      <th>3</th>\n",
       "      <td>Rafael</td>\n",
       "      <td>Computacao</td>\n",
       "      <td>MI</td>\n",
       "      <td>4</td>\n",
       "    </tr>\n",
       "  </tbody>\n",
       "</table>\n",
       "</div>"
      ],
      "text/plain": [
       "     Alunos       Curso Notas  Notas_int\n",
       "0  Leonardo  Computacao    MS          8\n",
       "1    Amanda  Psicologia    SS         10\n",
       "2     Lucas  Computacao    MS          8\n",
       "3    Rafael  Computacao    MI          4"
      ]
     },
     "execution_count": 40,
     "metadata": {},
     "output_type": "execute_result"
    }
   ],
   "source": [
    "#Para via de análise de dados futuros vamos transformar a coluna de Notas em uma nova coluna com suas respectivas notas em inteiros\n",
    "Notas_int = []\n",
    "for i in df[\"Notas\"]:\n",
    "    if i == \"SS\":\n",
    "        Notas_int.append(10)\n",
    "    elif i == \"MS\":\n",
    "        Notas_int.append(8)\n",
    "    elif i == \"MM\":\n",
    "        Notas_int.append(6)\n",
    "    elif i == \"MI\":\n",
    "        Notas_int.append(4)\n",
    "    else:\n",
    "        Notas_int.append(0)\n",
    "\n",
    "df = df.assign(Notas_int = Notas_int)\n",
    "df"
   ]
  },
  {
   "cell_type": "code",
   "execution_count": 41,
   "id": "df0a4d0e-ed3d-4cfa-a85b-07c55dcc402f",
   "metadata": {},
   "outputs": [
    {
     "name": "stdout",
     "output_type": "stream",
     "text": [
      "Médias das notas:  7.5\n",
      "Média alunos de Computacao:  6.666666666666667\n"
     ]
    }
   ],
   "source": [
    "#Média das Notas\n",
    "print(\"Médias das notas: \", df[\"Notas_int\"].mean())\n",
    "#Para calcular as médias das notas dos alunos de computacao podemos utilizar de mascaras que vimos em series\n",
    "mask = (df[\"Curso\"] == \"Computacao\")\n",
    "alunos_computacao = df[mask]\n",
    "# alunos_computacao\n",
    "print(\"Média alunos de Computacao: \", alunos_computacao[\"Notas_int\"].mean())"
   ]
  },
  {
   "cell_type": "code",
   "execution_count": 42,
   "id": "2bb92535-6947-4b6d-a8fd-8663f84ed24c",
   "metadata": {},
   "outputs": [
    {
     "data": {
      "text/html": [
       "<div>\n",
       "<style scoped>\n",
       "    .dataframe tbody tr th:only-of-type {\n",
       "        vertical-align: middle;\n",
       "    }\n",
       "\n",
       "    .dataframe tbody tr th {\n",
       "        vertical-align: top;\n",
       "    }\n",
       "\n",
       "    .dataframe thead th {\n",
       "        text-align: right;\n",
       "    }\n",
       "</style>\n",
       "<table border=\"1\" class=\"dataframe\">\n",
       "  <thead>\n",
       "    <tr style=\"text-align: right;\">\n",
       "      <th></th>\n",
       "      <th>Alunos</th>\n",
       "      <th>Curso</th>\n",
       "      <th>Notas</th>\n",
       "      <th>Notas_int</th>\n",
       "    </tr>\n",
       "  </thead>\n",
       "  <tbody>\n",
       "    <tr>\n",
       "      <th>0</th>\n",
       "      <td>Leonardo</td>\n",
       "      <td>Computacao</td>\n",
       "      <td>MS</td>\n",
       "      <td>8</td>\n",
       "    </tr>\n",
       "    <tr>\n",
       "      <th>1</th>\n",
       "      <td>Amanda</td>\n",
       "      <td>Psicologia</td>\n",
       "      <td>SS</td>\n",
       "      <td>10</td>\n",
       "    </tr>\n",
       "    <tr>\n",
       "      <th>2</th>\n",
       "      <td>Lucas</td>\n",
       "      <td>Computacao</td>\n",
       "      <td>MS</td>\n",
       "      <td>8</td>\n",
       "    </tr>\n",
       "    <tr>\n",
       "      <th>3</th>\n",
       "      <td>Rafael</td>\n",
       "      <td>Computacao</td>\n",
       "      <td>MI</td>\n",
       "      <td>4</td>\n",
       "    </tr>\n",
       "    <tr>\n",
       "      <th>4</th>\n",
       "      <td>Anthony</td>\n",
       "      <td>Psicolog</td>\n",
       "      <td>MM</td>\n",
       "      <td>6</td>\n",
       "    </tr>\n",
       "  </tbody>\n",
       "</table>\n",
       "</div>"
      ],
      "text/plain": [
       "     Alunos       Curso Notas  Notas_int\n",
       "0  Leonardo  Computacao    MS          8\n",
       "1    Amanda  Psicologia    SS         10\n",
       "2     Lucas  Computacao    MS          8\n",
       "3    Rafael  Computacao    MI          4\n",
       "4   Anthony    Psicolog    MM          6"
      ]
     },
     "execution_count": 42,
     "metadata": {},
     "output_type": "execute_result"
    }
   ],
   "source": [
    "#Introduzindo um novo Aluno ao DataFrame\n",
    "df = df._append({\"Alunos\" : \"Anthony\", \"Curso\" : \"Psicolog\", \"Notas\" : \"MM\", \"Notas_int\" : 6}, ignore_index = True)\n",
    "df"
   ]
  },
  {
   "cell_type": "code",
   "execution_count": 58,
   "id": "369f4f42-88c8-4713-87a1-6e0ab9155a29",
   "metadata": {},
   "outputs": [
    {
     "data": {
      "text/html": [
       "<div>\n",
       "<style scoped>\n",
       "    .dataframe tbody tr th:only-of-type {\n",
       "        vertical-align: middle;\n",
       "    }\n",
       "\n",
       "    .dataframe tbody tr th {\n",
       "        vertical-align: top;\n",
       "    }\n",
       "\n",
       "    .dataframe thead th {\n",
       "        text-align: right;\n",
       "    }\n",
       "</style>\n",
       "<table border=\"1\" class=\"dataframe\">\n",
       "  <thead>\n",
       "    <tr style=\"text-align: right;\">\n",
       "      <th></th>\n",
       "      <th>Alunos</th>\n",
       "      <th>Curso</th>\n",
       "      <th>Notas</th>\n",
       "      <th>Notas_int</th>\n",
       "    </tr>\n",
       "  </thead>\n",
       "  <tbody>\n",
       "    <tr>\n",
       "      <th>0</th>\n",
       "      <td>Leonardo</td>\n",
       "      <td>Computacao</td>\n",
       "      <td>MS</td>\n",
       "      <td>8</td>\n",
       "    </tr>\n",
       "    <tr>\n",
       "      <th>1</th>\n",
       "      <td>Amanda</td>\n",
       "      <td>Psicologia</td>\n",
       "      <td>SS</td>\n",
       "      <td>10</td>\n",
       "    </tr>\n",
       "    <tr>\n",
       "      <th>2</th>\n",
       "      <td>Lucas</td>\n",
       "      <td>Computacao</td>\n",
       "      <td>MS</td>\n",
       "      <td>8</td>\n",
       "    </tr>\n",
       "    <tr>\n",
       "      <th>3</th>\n",
       "      <td>Rafael</td>\n",
       "      <td>Computacao</td>\n",
       "      <td>MI</td>\n",
       "      <td>4</td>\n",
       "    </tr>\n",
       "    <tr>\n",
       "      <th>4</th>\n",
       "      <td>Anthony</td>\n",
       "      <td>Psicologia</td>\n",
       "      <td>MM</td>\n",
       "      <td>6</td>\n",
       "    </tr>\n",
       "  </tbody>\n",
       "</table>\n",
       "</div>"
      ],
      "text/plain": [
       "     Alunos       Curso Notas  Notas_int\n",
       "0  Leonardo  Computacao    MS          8\n",
       "1    Amanda  Psicologia    SS         10\n",
       "2     Lucas  Computacao    MS          8\n",
       "3    Rafael  Computacao    MI          4\n",
       "4   Anthony  Psicologia    MM          6"
      ]
     },
     "execution_count": 58,
     "metadata": {},
     "output_type": "execute_result"
    }
   ],
   "source": [
    "#Escrevemos psicologia errado, podemos corrigir isso atraves de uma mascara\n",
    "mascara_correta = df[\"Curso\"] == \"Psicolog\"\n",
    "df.loc[mascara_correta, 'Curso'] = \"Psicologia\"\n",
    "df"
   ]
  },
  {
   "cell_type": "code",
   "execution_count": 59,
   "id": "7ca466b8-3043-4fb5-9fc8-c9d2c2531ee6",
   "metadata": {},
   "outputs": [
    {
     "data": {
      "text/plain": [
       "0     True\n",
       "1    False\n",
       "2    False\n",
       "3    False\n",
       "4    False\n",
       "Name: Alunos, dtype: bool"
      ]
     },
     "execution_count": 59,
     "metadata": {},
     "output_type": "execute_result"
    }
   ],
   "source": [
    "df[\"Alunos\"] == \"Leonardo\""
   ]
  },
  {
   "cell_type": "code",
   "execution_count": 61,
   "id": "886311ce-3be5-4cbb-8c3a-b85eeaa62227",
   "metadata": {},
   "outputs": [
    {
     "data": {
      "text/plain": [
       "0    Computacao\n",
       "Name: Curso, dtype: object"
      ]
     },
     "execution_count": 61,
     "metadata": {},
     "output_type": "execute_result"
    }
   ],
   "source": [
    "df[df[\"Alunos\"] == \"Leonardo\"]['Curso']"
   ]
  }
 ],
 "metadata": {
  "kernelspec": {
   "display_name": "Python 3 (ipykernel)",
   "language": "python",
   "name": "python3"
  },
  "language_info": {
   "codemirror_mode": {
    "name": "ipython",
    "version": 3
   },
   "file_extension": ".py",
   "mimetype": "text/x-python",
   "name": "python",
   "nbconvert_exporter": "python",
   "pygments_lexer": "ipython3",
   "version": "3.12.3"
  }
 },
 "nbformat": 4,
 "nbformat_minor": 5
}
