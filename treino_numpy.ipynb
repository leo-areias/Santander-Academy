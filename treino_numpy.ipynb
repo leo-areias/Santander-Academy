{
 "cells": [
  {
   "cell_type": "code",
   "execution_count": 1,
   "id": "eed00d7a-84ec-4abf-a52f-87718c86d487",
   "metadata": {},
   "outputs": [],
   "source": [
    "import pandas as pd\n",
    "import numpy as np\n",
    "import matplotlib as plt\n",
    "import sklearn as skt"
   ]
  },
  {
   "cell_type": "code",
   "execution_count": 3,
   "id": "e8926a79-5b26-4833-b5d4-a15461a6a03a",
   "metadata": {},
   "outputs": [
    {
     "name": "stdout",
     "output_type": "stream",
     "text": [
      "<class 'list'>\n",
      "<class 'numpy.ndarray'>\n"
     ]
    }
   ],
   "source": [
    "#Array tem um unico tipo de dados\n",
    "lista = [1, 2, 3, 4, 5, 6]\n",
    "array = np.array(lista)\n",
    "print(type(lista))\n",
    "print(type(array))"
   ]
  },
  {
   "cell_type": "code",
   "execution_count": 4,
   "id": "49b7efd1-20cf-422e-bf30-d0ed501a575e",
   "metadata": {},
   "outputs": [
    {
     "name": "stdout",
     "output_type": "stream",
     "text": [
      "[0. 0. 0. 0. 0. 0. 0. 0. 0. 0.]\n"
     ]
    }
   ],
   "source": [
    "arr_zeros = np.zeros(10)\n",
    "print(arr_zeros)"
   ]
  },
  {
   "cell_type": "code",
   "execution_count": 7,
   "id": "b81fdd30-9096-4d29-b7fa-35878d12d744",
   "metadata": {},
   "outputs": [
    {
     "name": "stdout",
     "output_type": "stream",
     "text": [
      "9\n",
      "[9 2 3 4 5 6]\n"
     ]
    }
   ],
   "source": [
    "#editar valores do array\n",
    "array[0] = 9\n",
    "print(array[0])\n",
    "print(array)"
   ]
  },
  {
   "cell_type": "code",
   "execution_count": 8,
   "id": "df844090-78b7-4015-974e-f99f714d9e81",
   "metadata": {},
   "outputs": [
    {
     "name": "stdout",
     "output_type": "stream",
     "text": [
      "[[0. 0. 0.]\n",
      " [0. 0. 0.]\n",
      " [0. 0. 0.]\n",
      " [0. 0. 0.]\n",
      " [0. 0. 0.]]\n"
     ]
    }
   ],
   "source": [
    "#matriz\n",
    "matriz_zeros = np.zeros((5, 3))\n",
    "print(matriz_zeros)"
   ]
  },
  {
   "cell_type": "code",
   "execution_count": 10,
   "id": "eba82168-008d-49dc-a0b3-ffd4b2023afb",
   "metadata": {},
   "outputs": [],
   "source": [
    "lista_de_notas = [9.8, 5.6, 7.8, 9.1, 6.5]\n",
    "\n",
    "notas = np.array(lista_de_notas)"
   ]
  },
  {
   "cell_type": "code",
   "execution_count": 14,
   "id": "847ec38a-21f0-4549-9724-94c385f48d35",
   "metadata": {},
   "outputs": [
    {
     "name": "stdout",
     "output_type": "stream",
     "text": [
      "Max:  9.8\n",
      "Min:  5.6\n",
      "Desvio Padrao:  1.5628179676469045\n",
      "Media:  7.76\n",
      "Posicao Menor:  1\n"
     ]
    }
   ],
   "source": [
    "print(\"Max: \", notas.max())\n",
    "print(\"Min: \", notas.min())\n",
    "print(\"Desvio Padrao: \", notas.std())\n",
    "print(\"Media: \", notas.mean())\n",
    "print(\"Posicao Menor: \", notas.argmin())"
   ]
  },
  {
   "cell_type": "code",
   "execution_count": 19,
   "id": "12ad1537-60c2-40ff-8139-9f7351369e1f",
   "metadata": {},
   "outputs": [
    {
     "name": "stdin",
     "output_type": "stream",
     "text": [
      "Quantos alunos tem na Sala:  5\n",
      "Qual nota do aluno 1:  5.6\n",
      "Qual nota do aluno 2:  7.8\n",
      "Qual nota do aluno 3:  9.0\n",
      "Qual nota do aluno 4:  4.2\n",
      "Qual nota do aluno 5:  5.9\n"
     ]
    },
    {
     "name": "stdout",
     "output_type": "stream",
     "text": [
      "[5.6 7.8 9.  4.2 5.9]\n"
     ]
    }
   ],
   "source": [
    "#Desafio numpy\n",
    "lista = []\n",
    "alunos = int(input(\"Quantos alunos tem na Sala: \"))\n",
    "for i in range(0,alunos):\n",
    "    notas = float(input(f\"Qual nota do aluno {i +1}: \"))\n",
    "    lista.append(notas)\n",
    "\n",
    "array_notas = np.array(lista)\n",
    "print(array_notas)"
   ]
  },
  {
   "cell_type": "code",
   "execution_count": 21,
   "id": "84874421-91e5-4ba8-b209-a95753ffe5e4",
   "metadata": {},
   "outputs": [
    {
     "name": "stdout",
     "output_type": "stream",
     "text": [
      "Nota Maxima:  9.0\n",
      "Nota Minima:  4.2\n",
      "Desvio Padrao:  1.697056274847714\n",
      "Media:  6.5\n",
      "Posicao Menor:  3\n"
     ]
    }
   ],
   "source": [
    "#Análise do Desafio\n",
    "print(\"Nota Maxima: \", array_notas.max())\n",
    "print(\"Nota Minima: \", array_notas.min())\n",
    "print(\"Desvio Padrao: \", array_notas.std())\n",
    "print(\"Media: \", array_notas.mean())\n",
    "print(\"Posicao Menor: \", array_notas.argmin())"
   ]
  },
  {
   "cell_type": "code",
   "execution_count": 24,
   "id": "ab11ac1e-38a4-4deb-874b-723944b5b7d0",
   "metadata": {},
   "outputs": [],
   "source": [
    "#Mascara Booleana\n",
    "is_covid_positive = np.array(['Yes', 'No', 'No', 'Yes','Yes','No'])"
   ]
  },
  {
   "cell_type": "code",
   "execution_count": 25,
   "id": "765d9a6e-8576-4c14-a0c0-f58c4751567c",
   "metadata": {},
   "outputs": [],
   "source": [
    "mask = (is_covid_positive == 'Yes')"
   ]
  },
  {
   "cell_type": "code",
   "execution_count": 26,
   "id": "326fb505-bc2a-414c-8f1a-3077b7e57e90",
   "metadata": {},
   "outputs": [
    {
     "name": "stdout",
     "output_type": "stream",
     "text": [
      "[ True False False  True  True False]\n"
     ]
    }
   ],
   "source": [
    "print(mask)"
   ]
  },
  {
   "cell_type": "code",
   "execution_count": 29,
   "id": "6cebcad4-2508-406e-995e-bb8664e5f4d5",
   "metadata": {},
   "outputs": [
    {
     "name": "stdout",
     "output_type": "stream",
     "text": [
      "['C19' 'No' 'No' 'C19' 'C19' 'No']\n"
     ]
    }
   ],
   "source": [
    "#Alterando o array para os casos mask\n",
    "is_covid_positive[mask] = 'C19'\n",
    "print(is_covid_positive)"
   ]
  },
  {
   "cell_type": "code",
   "execution_count": 30,
   "id": "f8d84188-23dc-47b2-bb3d-7ab4fb7ef41c",
   "metadata": {},
   "outputs": [],
   "source": [
    "notas = np.array([4.9, 6.5, 3.2, 6.7])\n",
    "mask_notas = notas >= 5"
   ]
  },
  {
   "cell_type": "code",
   "execution_count": 31,
   "id": "bd143252-b69e-49bc-89f0-32754d50b90c",
   "metadata": {},
   "outputs": [
    {
     "name": "stdout",
     "output_type": "stream",
     "text": [
      "[False  True False  True]\n"
     ]
    }
   ],
   "source": [
    "print(mask_notas)"
   ]
  },
  {
   "cell_type": "code",
   "execution_count": 40,
   "id": "4d1e9fc8-2b09-4d74-8ccc-11913482426c",
   "metadata": {},
   "outputs": [
    {
     "name": "stdin",
     "output_type": "stream",
     "text": [
      "Quantos alunos tem na Sala:  5\n",
      "Qual nota do aluno 1:  6.3\n",
      "Qual nota do aluno 2:  6.2\n",
      "Qual nota do aluno 3:  7.8\n",
      "Qual nota do aluno 4:  3.5\n",
      "Qual nota do aluno 5:  5.9\n"
     ]
    },
    {
     "name": "stdout",
     "output_type": "stream",
     "text": [
      "[6.3 6.2 7.8 3.5 5.9]\n"
     ]
    }
   ],
   "source": [
    "#Desafio numpy mascara Booleana\n",
    "lista2 = []\n",
    "alunos2 = int(input(\"Quantos alunos tem na Sala: \"))\n",
    "for i in range(0,alunos2):\n",
    "    notas2 = float(input(f\"Qual nota do aluno {i +1}: \"))\n",
    "    lista2.append(notas2)\n",
    "\n",
    "array_notas2 = np.array(lista2)\n",
    "print(array_notas2)"
   ]
  },
  {
   "cell_type": "code",
   "execution_count": 45,
   "id": "e301e5ff-ad4d-4f74-9ab8-02c778ad7103",
   "metadata": {},
   "outputs": [
    {
     "name": "stdout",
     "output_type": "stream",
     "text": [
      "Nota necessária para Passar, maior ou igual a 6.2\n",
      "[ True  True  True False False]\n",
      "Alunos de recuperacao: [3.5 5.9]\n"
     ]
    }
   ],
   "source": [
    "print(\"Nota necessária para Passar, maior ou igual a 6.2\")\n",
    "mask_notas2 = array_notas2 >= 6.2\n",
    "print(mask_notas2)\n",
    "mask_recuperacao = (array_notas2 < 6.2)\n",
    "alunos_recuperacao = array_notas2[mask_recuperacao]\n",
    "print('Alunos de recuperacao:', alunos_recuperacao)"
   ]
  }
 ],
 "metadata": {
  "kernelspec": {
   "display_name": "Python 3 (ipykernel)",
   "language": "python",
   "name": "python3"
  },
  "language_info": {
   "codemirror_mode": {
    "name": "ipython",
    "version": 3
   },
   "file_extension": ".py",
   "mimetype": "text/x-python",
   "name": "python",
   "nbconvert_exporter": "python",
   "pygments_lexer": "ipython3",
   "version": "3.12.3"
  }
 },
 "nbformat": 4,
 "nbformat_minor": 5
}
